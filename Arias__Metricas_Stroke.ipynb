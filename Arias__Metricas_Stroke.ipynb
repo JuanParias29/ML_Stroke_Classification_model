{
  "cells": [
    {
      "cell_type": "markdown",
      "metadata": {
        "id": "view-in-github",
        "colab_type": "text"
      },
      "source": [
        "<a href=\"https://colab.research.google.com/github/JuanParias29/ML_Stroke_Classification_model/blob/main/Arias__Metricas_Stroke.ipynb\" target=\"_parent\"><img src=\"https://colab.research.google.com/assets/colab-badge.svg\" alt=\"Open In Colab\"/></a>"
      ]
    },
    {
      "cell_type": "markdown",
      "metadata": {
        "application/vnd.databricks.v1+cell": {
          "cellMetadata": {
            "byteLimit": 2048000,
            "rowLimit": 10000
          },
          "inputWidgets": {},
          "nuid": "5b6ad6cb-7563-4bbe-9a43-23d2f6fe1cd6",
          "showTitle": false,
          "tableResultSettingsMap": {},
          "title": ""
        },
        "id": "0UpEFnKtq5Pk"
      },
      "source": [
        "----------------------------------------------------------------\n",
        "\n",
        "**Fechas**: 03/02/2025, 10/02/2025, 17/02/2025, 12/05/2025\n",
        "\n",
        "**Autor**: Juan Pablo Arias Buitrago\n",
        "\n",
        "**Materia:** Procesamiento de datos a gran escala\n",
        "\n",
        "**Tópico:** Introducción a Pyspark en el Ambiente Databricks\n",
        "\n",
        "----------------------------------------------------------------"
      ]
    },
    {
      "cell_type": "code",
      "execution_count": 1,
      "metadata": {
        "application/vnd.databricks.v1+cell": {
          "cellMetadata": {
            "byteLimit": 2048000,
            "rowLimit": 10000
          },
          "inputWidgets": {},
          "nuid": "9464bb0a-f174-4fb8-8c0e-cadb02bc5b69",
          "showTitle": false,
          "tableResultSettingsMap": {},
          "title": ""
        },
        "id": "FZPJYooGq5Pm"
      },
      "outputs": [],
      "source": [
        "import numpy as up\n",
        "import matplotlib.pyplot as plt\n",
        "import seaborn as sns\n",
        "\n",
        "from pyspark.sql import SQLContext\n",
        "from pyspark.sql.types import *\n",
        "from pyspark.sql.functions import mean , col, split, count , when , lit , isnan, col, lit, when\n",
        "\n",
        "from pyspark.sql import SparkSession\n",
        "spark = SparkSession.builder.appName(\"MySparkApp\").getOrCreate()"
      ]
    },
    {
      "cell_type": "code",
      "execution_count": 2,
      "metadata": {
        "application/vnd.databricks.v1+cell": {
          "cellMetadata": {
            "byteLimit": 2048000,
            "rowLimit": 10000
          },
          "inputWidgets": {},
          "nuid": "1a84ad16-d386-4809-8953-10853b7fedd9",
          "showTitle": false,
          "tableResultSettingsMap": {},
          "title": ""
        },
        "colab": {
          "base_uri": "https://localhost:8080/",
          "height": 219
        },
        "id": "eWbRspvdq5Pn",
        "outputId": "289f994c-7400-4f2a-8f65-97f6177d975e"
      },
      "outputs": [
        {
          "output_type": "execute_result",
          "data": {
            "text/plain": [
              "<pyspark.sql.session.SparkSession at 0x7d71ad10ab90>"
            ],
            "text/html": [
              "\n",
              "            <div>\n",
              "                <p><b>SparkSession - in-memory</b></p>\n",
              "                \n",
              "        <div>\n",
              "            <p><b>SparkContext</b></p>\n",
              "\n",
              "            <p><a href=\"http://b9d562133012:4040\">Spark UI</a></p>\n",
              "\n",
              "            <dl>\n",
              "              <dt>Version</dt>\n",
              "                <dd><code>v3.5.1</code></dd>\n",
              "              <dt>Master</dt>\n",
              "                <dd><code>local[*]</code></dd>\n",
              "              <dt>AppName</dt>\n",
              "                <dd><code>MySparkApp</code></dd>\n",
              "            </dl>\n",
              "        </div>\n",
              "        \n",
              "            </div>\n",
              "        "
            ]
          },
          "metadata": {},
          "execution_count": 2
        }
      ],
      "source": [
        "#Descripción del entorno\n",
        "spark"
      ]
    },
    {
      "cell_type": "code",
      "execution_count": 3,
      "metadata": {
        "application/vnd.databricks.v1+cell": {
          "cellMetadata": {
            "byteLimit": 2048000,
            "rowLimit": 10000
          },
          "inputWidgets": {},
          "nuid": "2a24f089-cd52-447b-bfbd-dff26de7d421",
          "showTitle": false,
          "tableResultSettingsMap": {},
          "title": ""
        },
        "colab": {
          "base_uri": "https://localhost:8080/"
        },
        "id": "KLv4u7Qiq5Po",
        "outputId": "d2962faa-6257-4496-aecc-119da238fcb6"
      },
      "outputs": [
        {
          "output_type": "execute_result",
          "data": {
            "text/plain": [
              "['id',\n",
              " 'gender',\n",
              " 'age',\n",
              " 'hypertension',\n",
              " 'heart_disease',\n",
              " 'ever_married',\n",
              " 'work_type',\n",
              " 'Residence_type',\n",
              " 'avg_glucose_level',\n",
              " 'bmi',\n",
              " 'smoking_status',\n",
              " 'stroke']"
            ]
          },
          "metadata": {},
          "execution_count": 3
        }
      ],
      "source": [
        "#Cargar los Datos\n",
        "df00 = spark.read.csv(\"/content/stroke_pyspark.csv\", header=True, inferSchema=True)\n",
        "df00.columns"
      ]
    },
    {
      "cell_type": "markdown",
      "metadata": {
        "application/vnd.databricks.v1+cell": {
          "cellMetadata": {
            "byteLimit": 2048000,
            "rowLimit": 10000
          },
          "inputWidgets": {},
          "nuid": "2166dbcc-8d25-4052-8406-df0f2ba720a9",
          "showTitle": false,
          "tableResultSettingsMap": {},
          "title": ""
        },
        "id": "59GpUIwoq5Po"
      },
      "source": [
        "#####1. Se cambian los nombres de las columnas\n"
      ]
    },
    {
      "cell_type": "code",
      "execution_count": 4,
      "metadata": {
        "application/vnd.databricks.v1+cell": {
          "cellMetadata": {
            "byteLimit": 2048000,
            "rowLimit": 10000
          },
          "inputWidgets": {},
          "nuid": "51f9c6ac-bdfc-4c6a-9fe7-4144ad9c7bd6",
          "showTitle": false,
          "tableResultSettingsMap": {},
          "title": ""
        },
        "id": "rJeh-aZDq5Po"
      },
      "outputs": [],
      "source": [
        "nuevosNombres = ['id',\n",
        " 'genero',\n",
        " 'edad',\n",
        " 'hipertension',\n",
        " 'enfCardiaca',\n",
        " 'EdoCivil',\n",
        " 'trabajo',\n",
        " 'Residencia',\n",
        " 'Niveldeglucosaprom',\n",
        " 'IMC',\n",
        " 'Fumador',\n",
        " 'ACV']\n",
        "\n",
        "df01 = df00\n",
        "for antes, nuevo in zip(df00.columns, nuevosNombres):\n",
        "    df01 = df01.withColumnRenamed(antes, nuevo)\n"
      ]
    },
    {
      "cell_type": "markdown",
      "metadata": {
        "application/vnd.databricks.v1+cell": {
          "cellMetadata": {},
          "inputWidgets": {},
          "nuid": "de47577f-3579-4bb2-a598-f83b20585efd",
          "showTitle": false,
          "tableResultSettingsMap": {},
          "title": ""
        },
        "id": "zwwXnOf-q5Po"
      },
      "source": [
        "#####2. Verifirificar el esquema del DataFrame"
      ]
    },
    {
      "cell_type": "code",
      "execution_count": 5,
      "metadata": {
        "application/vnd.databricks.v1+cell": {
          "cellMetadata": {
            "byteLimit": 2048000,
            "rowLimit": 10000
          },
          "inputWidgets": {},
          "nuid": "159ebc51-5f08-4bc6-baee-736551167ca2",
          "showTitle": false,
          "tableResultSettingsMap": {},
          "title": ""
        },
        "id": "1Q2flus7q5Po",
        "outputId": "ce024457-43fb-4b0f-b0da-1aad1ff1f9cd",
        "colab": {
          "base_uri": "https://localhost:8080/"
        }
      },
      "outputs": [
        {
          "output_type": "stream",
          "name": "stdout",
          "text": [
            "root\n",
            " |-- id: integer (nullable = true)\n",
            " |-- genero: string (nullable = true)\n",
            " |-- edad: double (nullable = true)\n",
            " |-- hipertension: integer (nullable = true)\n",
            " |-- enfCardiaca: integer (nullable = true)\n",
            " |-- EdoCivil: string (nullable = true)\n",
            " |-- trabajo: string (nullable = true)\n",
            " |-- Residencia: string (nullable = true)\n",
            " |-- Niveldeglucosaprom: double (nullable = true)\n",
            " |-- IMC: string (nullable = true)\n",
            " |-- Fumador: string (nullable = true)\n",
            " |-- ACV: integer (nullable = true)\n",
            "\n"
          ]
        }
      ],
      "source": [
        "df01.printSchema()"
      ]
    },
    {
      "cell_type": "markdown",
      "metadata": {
        "application/vnd.databricks.v1+cell": {
          "cellMetadata": {
            "byteLimit": 2048000,
            "rowLimit": 10000
          },
          "inputWidgets": {},
          "nuid": "912d130a-412f-47a7-8714-2cae62550aa7",
          "showTitle": false,
          "tableResultSettingsMap": {},
          "title": ""
        },
        "id": "-_Ic_HnMq5Pp"
      },
      "source": [
        "#####3. En relación a la coherencia de los datos , se procede a :\n",
        "\n",
        "   - El tipo de datos \"IMC\" , se pasa a tipo de dato \"DOUBLE\"\n",
        "\n",
        "   - El tipo de dato \" edad\", se pasa a tipo de dato \" INTERGER\""
      ]
    },
    {
      "cell_type": "code",
      "execution_count": 6,
      "metadata": {
        "application/vnd.databricks.v1+cell": {
          "cellMetadata": {
            "byteLimit": 2048000,
            "rowLimit": 10000
          },
          "inputWidgets": {},
          "nuid": "b761c2b8-61dd-4bc9-b3e6-e8f3abc39fb8",
          "showTitle": false,
          "tableResultSettingsMap": {},
          "title": ""
        },
        "id": "EMSy4hpBq5Pp",
        "outputId": "048c7718-61de-4e22-852a-5d215436c17c",
        "colab": {
          "base_uri": "https://localhost:8080/"
        }
      },
      "outputs": [
        {
          "output_type": "stream",
          "name": "stdout",
          "text": [
            "root\n",
            " |-- id: integer (nullable = true)\n",
            " |-- genero: string (nullable = true)\n",
            " |-- edad: integer (nullable = true)\n",
            " |-- hipertension: integer (nullable = true)\n",
            " |-- enfCardiaca: integer (nullable = true)\n",
            " |-- EdoCivil: string (nullable = true)\n",
            " |-- trabajo: string (nullable = true)\n",
            " |-- Residencia: string (nullable = true)\n",
            " |-- Niveldeglucosaprom: double (nullable = true)\n",
            " |-- IMC: double (nullable = true)\n",
            " |-- Fumador: string (nullable = true)\n",
            " |-- ACV: integer (nullable = true)\n",
            "\n"
          ]
        }
      ],
      "source": [
        "df01 = df01.withColumn(\"edad\", df01.edad.cast(\"int\"))\n",
        "df01 = df01.withColumn(\"IMC\", df01.IMC.cast(\"double\"))\n",
        "\n",
        "df01.printSchema()"
      ]
    },
    {
      "cell_type": "code",
      "execution_count": 7,
      "metadata": {
        "application/vnd.databricks.v1+cell": {
          "cellMetadata": {
            "byteLimit": 2048000,
            "rowLimit": 10000
          },
          "inputWidgets": {},
          "nuid": "eae7bb21-fca4-437c-af8f-b8e9293fbfa8",
          "showTitle": false,
          "tableResultSettingsMap": {},
          "title": ""
        },
        "id": "R8ON-7Noq5Pp",
        "outputId": "213995ac-00b6-42bb-aeed-c5dec2972155",
        "colab": {
          "base_uri": "https://localhost:8080/"
        }
      },
      "outputs": [
        {
          "output_type": "stream",
          "name": "stdout",
          "text": [
            "+-----+------+----+------------+-----------+--------+-------------+----------+------------------+----+---------------+---+\n",
            "|   id|genero|edad|hipertension|enfCardiaca|EdoCivil|      trabajo|Residencia|Niveldeglucosaprom| IMC|        Fumador|ACV|\n",
            "+-----+------+----+------------+-----------+--------+-------------+----------+------------------+----+---------------+---+\n",
            "| 9046|  Male|  67|           0|          1|     Yes|      Private|     Urban|            228.69|36.6|formerly smoked|  1|\n",
            "|51676|Female|  61|           0|          0|     Yes|Self-employed|     Rural|            202.21|NULL|   never smoked|  1|\n",
            "|31112|  Male|  80|           0|          1|     Yes|      Private|     Rural|            105.92|32.5|   never smoked|  1|\n",
            "|60182|Female|  49|           0|          0|     Yes|      Private|     Urban|            171.23|34.4|         smokes|  1|\n",
            "| 1665|Female|  79|           1|          0|     Yes|Self-employed|     Rural|            174.12|24.0|   never smoked|  1|\n",
            "|56669|  Male|  81|           0|          0|     Yes|      Private|     Urban|            186.21|29.0|formerly smoked|  1|\n",
            "|53882|  Male|  74|           1|          1|     Yes|      Private|     Rural|             70.09|27.4|   never smoked|  1|\n",
            "|10434|Female|  69|           0|          0|      No|      Private|     Urban|             94.39|22.8|   never smoked|  1|\n",
            "|27419|Female|  59|           0|          0|     Yes|      Private|     Rural|             76.15|NULL|        Unknown|  1|\n",
            "|60491|Female|  78|           0|          0|     Yes|      Private|     Urban|             58.57|24.2|        Unknown|  1|\n",
            "+-----+------+----+------------+-----------+--------+-------------+----------+------------------+----+---------------+---+\n",
            "only showing top 10 rows\n",
            "\n"
          ]
        }
      ],
      "source": [
        "#MostrarDatos\n",
        "df01.show(10)"
      ]
    },
    {
      "cell_type": "markdown",
      "metadata": {
        "application/vnd.databricks.v1+cell": {
          "cellMetadata": {},
          "inputWidgets": {},
          "nuid": "4445bda6-d6d4-411f-83c0-c779b9e2658d",
          "showTitle": false,
          "tableResultSettingsMap": {},
          "title": ""
        },
        "id": "ffOlCeOZq5Pp"
      },
      "source": [
        "#####4. Exploración de categorias"
      ]
    },
    {
      "cell_type": "code",
      "execution_count": 8,
      "metadata": {
        "application/vnd.databricks.v1+cell": {
          "cellMetadata": {
            "byteLimit": 2048000,
            "rowLimit": 10000
          },
          "inputWidgets": {},
          "nuid": "1d142dbd-156d-4b3a-8d6c-529a36cbaaa6",
          "showTitle": false,
          "tableResultSettingsMap": {},
          "title": ""
        },
        "id": "gvsMrP9Fq5Pp",
        "outputId": "38badab1-7e5a-481b-b615-a4c454f27891",
        "colab": {
          "base_uri": "https://localhost:8080/"
        }
      },
      "outputs": [
        {
          "output_type": "stream",
          "name": "stdout",
          "text": [
            "+------+-----+\n",
            "|genero|count|\n",
            "+------+-----+\n",
            "|Female| 2994|\n",
            "| Other|    1|\n",
            "|  Male| 2115|\n",
            "+------+-----+\n",
            "\n"
          ]
        }
      ],
      "source": [
        "#Obtener cantidad total de registros\n",
        "df01.groupby(['genero']).count().show()"
      ]
    },
    {
      "cell_type": "code",
      "execution_count": 9,
      "metadata": {
        "application/vnd.databricks.v1+cell": {
          "cellMetadata": {
            "byteLimit": 2048000,
            "rowLimit": 10000
          },
          "inputWidgets": {},
          "nuid": "8a5240ec-e210-40ff-971b-ae77e2e0f1b8",
          "showTitle": false,
          "tableResultSettingsMap": {},
          "title": ""
        },
        "id": "0KfCuzsbq5Pq",
        "outputId": "240f03cb-9327-4f0d-b577-7193a091bb0f",
        "colab": {
          "base_uri": "https://localhost:8080/"
        }
      },
      "outputs": [
        {
          "output_type": "stream",
          "name": "stdout",
          "text": [
            "+------------+-----+\n",
            "|hipertension|count|\n",
            "+------------+-----+\n",
            "|           1|  498|\n",
            "|           0| 4612|\n",
            "+------------+-----+\n",
            "\n"
          ]
        }
      ],
      "source": [
        "df01.groupby(['hipertension']).count().show()"
      ]
    },
    {
      "cell_type": "code",
      "execution_count": 10,
      "metadata": {
        "application/vnd.databricks.v1+cell": {
          "cellMetadata": {
            "byteLimit": 2048000,
            "rowLimit": 10000
          },
          "inputWidgets": {},
          "nuid": "08bd3895-8c66-42a8-a8c9-90ca7b5adb04",
          "showTitle": false,
          "tableResultSettingsMap": {},
          "title": ""
        },
        "id": "Jz4QuJ33q5Pq",
        "outputId": "97b77b4f-0548-4d07-db13-66e8311fb024",
        "colab": {
          "base_uri": "https://localhost:8080/"
        }
      },
      "outputs": [
        {
          "output_type": "stream",
          "name": "stdout",
          "text": [
            "+-----------+-----+\n",
            "|enfCardiaca|count|\n",
            "+-----------+-----+\n",
            "|          1|  276|\n",
            "|          0| 4834|\n",
            "+-----------+-----+\n",
            "\n"
          ]
        }
      ],
      "source": [
        "df01.groupby(['enfCardiaca']).count().show()"
      ]
    },
    {
      "cell_type": "code",
      "execution_count": 11,
      "metadata": {
        "application/vnd.databricks.v1+cell": {
          "cellMetadata": {
            "byteLimit": 2048000,
            "rowLimit": 10000
          },
          "inputWidgets": {},
          "nuid": "4614a2b3-a2d1-45fb-894c-548b7d9a46f3",
          "showTitle": false,
          "tableResultSettingsMap": {},
          "title": ""
        },
        "id": "JmsO-0giq5Pq",
        "outputId": "f96818fb-edd7-4016-df2c-ff2b0b5ec29d",
        "colab": {
          "base_uri": "https://localhost:8080/"
        }
      },
      "outputs": [
        {
          "output_type": "stream",
          "name": "stdout",
          "text": [
            "+--------+-----+\n",
            "|EdoCivil|count|\n",
            "+--------+-----+\n",
            "|      No| 1757|\n",
            "|     Yes| 3353|\n",
            "+--------+-----+\n",
            "\n"
          ]
        }
      ],
      "source": [
        "df01.groupby(['EdoCivil']).count().show()"
      ]
    },
    {
      "cell_type": "code",
      "execution_count": 12,
      "metadata": {
        "application/vnd.databricks.v1+cell": {
          "cellMetadata": {
            "byteLimit": 2048000,
            "rowLimit": 10000
          },
          "inputWidgets": {},
          "nuid": "4429bab5-b1c3-419b-ac53-134ae01c6171",
          "showTitle": false,
          "tableResultSettingsMap": {},
          "title": ""
        },
        "id": "SOgB-eglq5Pq",
        "outputId": "d145192d-fd7d-4d57-ce20-819f82d98d65",
        "colab": {
          "base_uri": "https://localhost:8080/"
        }
      },
      "outputs": [
        {
          "output_type": "stream",
          "name": "stdout",
          "text": [
            "+-------------+-----+\n",
            "|      trabajo|count|\n",
            "+-------------+-----+\n",
            "| Never_worked|   22|\n",
            "|Self-employed|  819|\n",
            "|      Private| 2925|\n",
            "|     children|  687|\n",
            "|     Govt_job|  657|\n",
            "+-------------+-----+\n",
            "\n"
          ]
        }
      ],
      "source": [
        "df01.groupby(['trabajo']).count().show()"
      ]
    },
    {
      "cell_type": "code",
      "execution_count": 13,
      "metadata": {
        "application/vnd.databricks.v1+cell": {
          "cellMetadata": {
            "byteLimit": 2048000,
            "rowLimit": 10000
          },
          "inputWidgets": {},
          "nuid": "32f9c330-385c-486b-801e-a29e9be75248",
          "showTitle": false,
          "tableResultSettingsMap": {},
          "title": ""
        },
        "id": "GMQXzGyIq5Pr",
        "outputId": "2b8a7db4-2526-4353-f585-8b67bdbde84f",
        "colab": {
          "base_uri": "https://localhost:8080/"
        }
      },
      "outputs": [
        {
          "output_type": "stream",
          "name": "stdout",
          "text": [
            "+----------+-----+\n",
            "|Residencia|count|\n",
            "+----------+-----+\n",
            "|     Urban| 2596|\n",
            "|     Rural| 2514|\n",
            "+----------+-----+\n",
            "\n"
          ]
        }
      ],
      "source": [
        "df01.groupby(['Residencia']).count().show()"
      ]
    },
    {
      "cell_type": "code",
      "execution_count": 14,
      "metadata": {
        "application/vnd.databricks.v1+cell": {
          "cellMetadata": {
            "byteLimit": 2048000,
            "rowLimit": 10000
          },
          "inputWidgets": {},
          "nuid": "0971e3ac-8c4d-4cb8-97c3-ba7397195edd",
          "showTitle": false,
          "tableResultSettingsMap": {},
          "title": ""
        },
        "id": "BbsUBr9xq5Pr",
        "outputId": "3c07422a-b624-4010-b7bb-f4111f1992b0",
        "colab": {
          "base_uri": "https://localhost:8080/"
        }
      },
      "outputs": [
        {
          "output_type": "stream",
          "name": "stdout",
          "text": [
            "+---------------+-----+\n",
            "|        Fumador|count|\n",
            "+---------------+-----+\n",
            "|         smokes|  789|\n",
            "|        Unknown| 1544|\n",
            "|   never smoked| 1892|\n",
            "|formerly smoked|  885|\n",
            "+---------------+-----+\n",
            "\n"
          ]
        }
      ],
      "source": [
        "df01.groupby(['Fumador']).count().show()"
      ]
    },
    {
      "cell_type": "code",
      "execution_count": 16,
      "metadata": {
        "application/vnd.databricks.v1+cell": {
          "cellMetadata": {
            "byteLimit": 2048000,
            "rowLimit": 10000
          },
          "inputWidgets": {},
          "nuid": "113414f4-71a2-414e-aa8a-9cfac63b3f65",
          "showTitle": false,
          "tableResultSettingsMap": {},
          "title": ""
        },
        "id": "mGLDAAztq5Pr",
        "outputId": "944b803d-fe9a-4cd0-f47f-a1e5e6ae3508",
        "colab": {
          "base_uri": "https://localhost:8080/"
        }
      },
      "outputs": [
        {
          "output_type": "stream",
          "name": "stdout",
          "text": [
            "+---+-----+\n",
            "|ACV|count|\n",
            "+---+-----+\n",
            "|  1|  249|\n",
            "|  0| 4861|\n",
            "+---+-----+\n",
            "\n"
          ]
        }
      ],
      "source": [
        "df01.groupby(['ACV']).count().show()"
      ]
    },
    {
      "cell_type": "code",
      "execution_count": 18,
      "metadata": {
        "application/vnd.databricks.v1+cell": {
          "cellMetadata": {
            "byteLimit": 2048000,
            "rowLimit": 10000
          },
          "inputWidgets": {},
          "nuid": "f44ce92e-a004-473e-aee1-cb4d2efb00fa",
          "showTitle": false,
          "tableResultSettingsMap": {},
          "title": ""
        },
        "id": "RKuS0RrGq5Pr",
        "outputId": "8c82125b-8a3d-4ef0-a826-3ad975272b23",
        "colab": {
          "base_uri": "https://localhost:8080/"
        }
      },
      "outputs": [
        {
          "output_type": "stream",
          "name": "stdout",
          "text": [
            "+------+-----+\n",
            "|genero|count|\n",
            "+------+-----+\n",
            "|Female| 2994|\n",
            "|  Male| 2115|\n",
            "+------+-----+\n",
            "\n"
          ]
        }
      ],
      "source": [
        "#Se descarta el registro cuyo valor en género es \"Other\"\n",
        "df02 = df01.where(\"genero <> 'Other'\")\n",
        "\n",
        "#Se verifica que ya no esta \"Other\"\n",
        "df02.groupby(['genero']).count().show()"
      ]
    },
    {
      "cell_type": "markdown",
      "metadata": {
        "application/vnd.databricks.v1+cell": {
          "cellMetadata": {},
          "inputWidgets": {},
          "nuid": "aa10ed7e-099b-45f4-85b4-35e9db9d7290",
          "showTitle": false,
          "tableResultSettingsMap": {},
          "title": ""
        },
        "id": "4AJDLOIvq5Pr"
      },
      "source": [
        "#####5. Identificar Nulos"
      ]
    },
    {
      "cell_type": "code",
      "execution_count": 19,
      "metadata": {
        "application/vnd.databricks.v1+cell": {
          "cellMetadata": {
            "byteLimit": 2048000,
            "rowLimit": 10000
          },
          "inputWidgets": {},
          "nuid": "2e928392-f4ad-4a65-9b06-dc6d563e3094",
          "showTitle": false,
          "tableResultSettingsMap": {},
          "title": ""
        },
        "id": "-2AUqXQpq5Ps",
        "outputId": "1421ad5d-38c3-4703-a852-24ccfa7512f5",
        "colab": {
          "base_uri": "https://localhost:8080/"
        }
      },
      "outputs": [
        {
          "output_type": "stream",
          "name": "stdout",
          "text": [
            "+---+------+----+------------+-----------+--------+-------+----------+------------------+---+-------+---+\n",
            "| id|genero|edad|hipertension|enfCardiaca|EdoCivil|trabajo|Residencia|Niveldeglucosaprom|IMC|Fumador|ACV|\n",
            "+---+------+----+------------+-----------+--------+-------+----------+------------------+---+-------+---+\n",
            "|  0|     0|   0|           0|          0|       0|      0|         0|                 0|201|      0|  0|\n",
            "+---+------+----+------------+-----------+--------+-------+----------+------------------+---+-------+---+\n",
            "\n"
          ]
        }
      ],
      "source": [
        "df01.select([count(when(isnan(c) | col(c).isNull(), c)).alias(c) for c in df01.columns]).show()"
      ]
    },
    {
      "cell_type": "markdown",
      "metadata": {
        "application/vnd.databricks.v1+cell": {
          "cellMetadata": {
            "byteLimit": 2048000,
            "rowLimit": 10000
          },
          "inputWidgets": {},
          "nuid": "99ac5221-7ef6-4e82-a3dd-3f5ecaf205c7",
          "showTitle": false,
          "tableResultSettingsMap": {},
          "title": ""
        },
        "id": "c1IfW6XWq5Ps"
      },
      "source": [
        "Se puede observar que la columna IMC presenta datos Nulos o Imposibles. A pesar que el porcentaje de datos nulos es muy bajo, se requiere crear una estrategia para mutar o cambiar los datos, sin que sean eliminados.\n",
        "- Se requiere hacer estaratos de promedios cada 10 años\n",
        "- Los promedios por estratos se catalogan por género\n",
        "- Se sustituye por el promedio de los nulos según género/estrato_edad"
      ]
    },
    {
      "cell_type": "code",
      "execution_count": 20,
      "metadata": {
        "application/vnd.databricks.v1+cell": {
          "cellMetadata": {
            "byteLimit": 2048000,
            "rowLimit": 10000
          },
          "inputWidgets": {},
          "nuid": "86e63e9f-204f-48cf-8e5c-a04b3638c99a",
          "showTitle": false,
          "tableResultSettingsMap": {},
          "title": ""
        },
        "id": "H9EN0jbGq5Ps",
        "outputId": "15129724-ff80-490f-d89c-3aed4c8807da",
        "colab": {
          "base_uri": "https://localhost:8080/"
        }
      },
      "outputs": [
        {
          "output_type": "stream",
          "name": "stdout",
          "text": [
            "[Row(avg(IMC)=18.687962962962963)]\n"
          ]
        }
      ],
      "source": [
        "####### Se extrae promedio IMC por Estrato y Female\n",
        "avg10F = df02.where((col('genero')== lit('Female')) & (col('edad')<10)).select(mean(col('IMC'))).collect()\n",
        "avg20F = df02.where((col('genero')== lit('Female')) & (col('edad')>10) & (col('edad')<20)).select(mean(col('edad'))).collect()\n",
        "avg30F = df02.where((col('genero')== lit('Female')) & (col('edad')>20) & (col('edad')<30)).select(mean(col('edad'))).collect()\n",
        "avg40F = df02.where((col('genero')== lit('Female')) & (col('edad')>30) & (col('edad')<40)).select(mean(col('edad'))).collect()\n",
        "avg50F = df02.where((col('genero')== lit('Female')) & (col('edad')>40) & (col('edad')<50)).select(mean(col('edad'))).collect()\n",
        "avg60F = df02.where((col('genero')== lit('Female')) & (col('edad')>50) & (col('edad')<60)).select(mean(col('edad'))).collect()\n",
        "avg70F = df02.where((col('genero')== lit('Female')) & (col('edad')>60) & (col('edad')<70)).select(mean(col('edad'))).collect()\n",
        "avg80F = df02.where((col('genero')== lit('Female')) & (col('edad')>70) & (col('edad')<80)).select(mean(col('edad'))).collect()\n",
        "avg90F = df02.where((col('genero')== lit('Female')) & (col('edad')>80) & (col('edad')<90)).select(mean(col('edad'))).collect()\n",
        "\n",
        "print(avg10F)"
      ]
    },
    {
      "cell_type": "code",
      "execution_count": 21,
      "metadata": {
        "application/vnd.databricks.v1+cell": {
          "cellMetadata": {
            "byteLimit": 2048000,
            "rowLimit": 10000
          },
          "inputWidgets": {},
          "nuid": "b5bcd141-07dd-4ea9-8bc3-73aa546f7110",
          "showTitle": false,
          "tableResultSettingsMap": {},
          "title": ""
        },
        "id": "TVZVcInNq5Ps"
      },
      "outputs": [],
      "source": [
        "df03 = df02.withColumn(\"IMC\", when((df02['genero'] == 'Female') & (df02['IMC'].isNull()) & (df02['edad'] < 10), avg10F[0][0]).otherwise(df02['IMC']))\n",
        "df03 = df02.withColumn(\"IMC\", when((df02['genero'] == 'Female') & (df02['IMC'].isNull()) & (df02['edad'] < 20), avg20F[0][0]).otherwise(df02['IMC']))\n",
        "df03 = df02.withColumn(\"IMC\", when((df02['genero'] == 'Female') & (df02['IMC'].isNull()) & (df02['edad'] < 30), avg30F[0][0]).otherwise(df02['IMC']))\n",
        "df03 = df02.withColumn(\"IMC\", when((df02['genero'] == 'Female') & (df02['IMC'].isNull()) & (df02['edad'] < 40), avg40F[0][0]).otherwise(df02['IMC']))\n",
        "df03 = df02.withColumn(\"IMC\", when((df02['genero'] == 'Female') & (df02['IMC'].isNull()) & (df02['edad'] < 50), avg50F[0][0]).otherwise(df02['IMC']))\n",
        "df03 = df02.withColumn(\"IMC\", when((df02['genero'] == 'Female') & (df02['IMC'].isNull()) & (df02['edad'] < 60), avg60F[0][0]).otherwise(df02['IMC']))\n",
        "df03 = df02.withColumn(\"IMC\", when((df02['genero'] == 'Female') & (df02['IMC'].isNull()) & (df02['edad'] < 70), avg70F[0][0]).otherwise(df02['IMC']))\n",
        "df03 = df02.withColumn(\"IMC\", when((df02['genero'] == 'Female') & (df02['IMC'].isNull()) & (df02['edad'] < 80), avg80F[0][0]).otherwise(df02['IMC']))\n",
        "df03 = df02.withColumn(\"IMC\", when((df02['genero'] == 'Female') & (df02['IMC'].isNull()) & (df02['edad'] < 90), avg90F[0][0]).otherwise(df02['IMC']))\n",
        "\n"
      ]
    },
    {
      "cell_type": "code",
      "execution_count": 22,
      "metadata": {
        "application/vnd.databricks.v1+cell": {
          "cellMetadata": {
            "byteLimit": 2048000,
            "rowLimit": 10000
          },
          "inputWidgets": {},
          "nuid": "c930f604-01c2-4a75-bdd7-d90a29119d2d",
          "showTitle": false,
          "tableResultSettingsMap": {},
          "title": ""
        },
        "id": "sBRIbqFlq5Pt",
        "outputId": "02a24026-65dc-4736-a7e8-60d95d87d59a",
        "colab": {
          "base_uri": "https://localhost:8080/"
        }
      },
      "outputs": [
        {
          "output_type": "stream",
          "name": "stdout",
          "text": [
            "+---+------+----+------------+-----------+--------+-------+----------+------------------+---+-------+---+\n",
            "| id|genero|edad|hipertension|enfCardiaca|EdoCivil|trabajo|Residencia|Niveldeglucosaprom|IMC|Fumador|ACV|\n",
            "+---+------+----+------------+-----------+--------+-------+----------+------------------+---+-------+---+\n",
            "|  0|     0|   0|           0|          0|       0|      0|         0|                 0|104|      0|  0|\n",
            "+---+------+----+------------+-----------+--------+-------+----------+------------------+---+-------+---+\n",
            "\n"
          ]
        }
      ],
      "source": [
        "df03.select([count(when(isnan(c) | col(c).isNull(), c)).alias(c) for c in df03.columns]).show()"
      ]
    },
    {
      "cell_type": "code",
      "execution_count": 23,
      "metadata": {
        "application/vnd.databricks.v1+cell": {
          "cellMetadata": {
            "byteLimit": 2048000,
            "rowLimit": 10000
          },
          "inputWidgets": {},
          "nuid": "d336cdbd-7166-45d2-add7-95e2ee10490a",
          "showTitle": false,
          "tableResultSettingsMap": {},
          "title": ""
        },
        "id": "15XA7v26q5Pt",
        "outputId": "76d6fdc5-6d64-4759-91fe-9eaaec76b5f2",
        "colab": {
          "base_uri": "https://localhost:8080/"
        }
      },
      "outputs": [
        {
          "output_type": "stream",
          "name": "stdout",
          "text": [
            "[Row(avg(IMC)=19.03168724279836)]\n"
          ]
        }
      ],
      "source": [
        "####### Se extrae promedio IMC por Estrato y Male\n",
        "avg10M = df02.where((col('genero')== lit('Male')) & (col('edad')<10)).select(mean(col('IMC'))).collect()\n",
        "avg20M = df02.where((col('genero')== lit('Male')) & (col('edad')>10) & (col('edad')<20)).select(mean(col('edad'))).collect()\n",
        "avg30M = df02.where((col('genero')== lit('Male')) & (col('edad')>20) & (col('edad')<30)).select(mean(col('edad'))).collect()\n",
        "avg40M = df02.where((col('genero')== lit('Male')) & (col('edad')>30) & (col('edad')<40)).select(mean(col('edad'))).collect()\n",
        "avg50M = df02.where((col('genero')== lit('Male')) & (col('edad')>40) & (col('edad')<50)).select(mean(col('edad'))).collect()\n",
        "avg60M = df02.where((col('genero')== lit('Male')) & (col('edad')>50) & (col('edad')<60)).select(mean(col('edad'))).collect()\n",
        "avg70M = df02.where((col('genero')== lit('Male')) & (col('edad')>60) & (col('edad')<70)).select(mean(col('edad'))).collect()\n",
        "avg80M = df02.where((col('genero')== lit('Male')) & (col('edad')>70) & (col('edad')<80)).select(mean(col('edad'))).collect()\n",
        "avg90M = df02.where((col('genero')== lit('Male')) & (col('edad')>80) & (col('edad')<90)).select(mean(col('edad'))).collect()\n",
        "\n",
        "print(avg10M)"
      ]
    },
    {
      "cell_type": "code",
      "execution_count": 24,
      "metadata": {
        "application/vnd.databricks.v1+cell": {
          "cellMetadata": {
            "byteLimit": 2048000,
            "rowLimit": 10000
          },
          "inputWidgets": {},
          "nuid": "1fa9f83d-7be2-4fe5-b7a4-fc32618a0b44",
          "showTitle": false,
          "tableResultSettingsMap": {},
          "title": ""
        },
        "id": "xYkhHmLjq5Pt"
      },
      "outputs": [],
      "source": [
        "df04 = df02.withColumn(\"IMC\", when((df02['genero'] == 'Male') & (df02['IMC'].isNull()) & (df02['edad'] < 10), avg10M[0][0]).otherwise(df02['IMC']))\n",
        "df04 = df02.withColumn(\"IMC\", when((df02['genero'] == 'Male') & (df02['IMC'].isNull()) & (df02['edad'] < 20), avg20M[0][0]).otherwise(df02['IMC']))\n",
        "df04 = df02.withColumn(\"IMC\", when((df02['genero'] == 'Male') & (df02['IMC'].isNull()) & (df02['edad'] < 30), avg30M[0][0]).otherwise(df02['IMC']))\n",
        "df04 = df02.withColumn(\"IMC\", when((df02['genero'] == 'Male') & (df02['IMC'].isNull()) & (df02['edad'] < 40), avg40M[0][0]).otherwise(df02['IMC']))\n",
        "df04 = df02.withColumn(\"IMC\", when((df02['genero'] == 'Male') & (df02['IMC'].isNull()) & (df02['edad'] < 50), avg50M[0][0]).otherwise(df02['IMC']))\n",
        "df04 = df02.withColumn(\"IMC\", when((df02['genero'] == 'Male') & (df02['IMC'].isNull()) & (df02['edad'] < 60), avg60M[0][0]).otherwise(df02['IMC']))\n",
        "df04 = df02.withColumn(\"IMC\", when((df02['genero'] == 'Male') & (df02['IMC'].isNull()) & (df02['edad'] < 70), avg70M[0][0]).otherwise(df02['IMC']))\n",
        "df04 = df02.withColumn(\"IMC\", when((df02['genero'] == 'Male') & (df02['IMC'].isNull()) & (df02['edad'] < 80), avg80M[0][0]).otherwise(df02['IMC']))\n",
        "df04 = df02.withColumn(\"IMC\", when((df02['genero'] == 'Male') & (df02['IMC'].isNull()) & (df02['edad'] < 90), avg90M[0][0]).otherwise(df02['IMC']))"
      ]
    },
    {
      "cell_type": "code",
      "execution_count": 25,
      "metadata": {
        "application/vnd.databricks.v1+cell": {
          "cellMetadata": {
            "byteLimit": 2048000,
            "rowLimit": 10000
          },
          "inputWidgets": {},
          "nuid": "f4bf2018-efd5-4166-b261-75d2a2b9eaa8",
          "showTitle": false,
          "tableResultSettingsMap": {},
          "title": ""
        },
        "id": "4vejmE9sq5Pt",
        "outputId": "303f4353-d15f-4295-d96a-666d5cb5db80",
        "colab": {
          "base_uri": "https://localhost:8080/"
        }
      },
      "outputs": [
        {
          "output_type": "stream",
          "name": "stdout",
          "text": [
            "+---+------+----+------------+-----------+--------+-------+----------+------------------+---+-------+---+\n",
            "| id|genero|edad|hipertension|enfCardiaca|EdoCivil|trabajo|Residencia|Niveldeglucosaprom|IMC|Fumador|ACV|\n",
            "+---+------+----+------------+-----------+--------+-------+----------+------------------+---+-------+---+\n",
            "|  0|     0|   0|           0|          0|       0|      0|         0|                 0| 97|      0|  0|\n",
            "+---+------+----+------------+-----------+--------+-------+----------+------------------+---+-------+---+\n",
            "\n"
          ]
        }
      ],
      "source": [
        "df04.select([count(when(isnan(c) | col(c).isNull(), c)).alias(c) for c in df04.columns]).show()"
      ]
    },
    {
      "cell_type": "markdown",
      "metadata": {
        "application/vnd.databricks.v1+cell": {
          "cellMetadata": {},
          "inputWidgets": {},
          "nuid": "31ed7ffe-ceaa-4892-8b82-e7aa2a6d936f",
          "showTitle": false,
          "tableResultSettingsMap": {},
          "title": ""
        },
        "id": "Q5tu1v9zq5Pt"
      },
      "source": [
        "#####6. Función Para calcular promedio de IMC"
      ]
    },
    {
      "cell_type": "code",
      "execution_count": 26,
      "metadata": {
        "application/vnd.databricks.v1+cell": {
          "cellMetadata": {
            "byteLimit": 2048000,
            "rowLimit": 10000
          },
          "inputWidgets": {},
          "nuid": "a216e1b5-e2b7-4d94-a148-9ca31febe702",
          "showTitle": false,
          "tableResultSettingsMap": {},
          "title": ""
        },
        "id": "tERoMST2q5Pu",
        "outputId": "45cd1c06-7608-4b1f-c66a-faf365b53cf9",
        "colab": {
          "base_uri": "https://localhost:8080/"
        }
      },
      "outputs": [
        {
          "output_type": "stream",
          "name": "stdout",
          "text": [
            "Para el genero Female en el Rango de Edad 0-10: Promedio IMC = 18.784186046511625\n",
            "Para el genero Female en el Rango de Edad 10-20: Promedio IMC = 25.516000000000012\n",
            "Para el genero Female en el Rango de Edad 20-30: Promedio IMC = 28.640163934426226\n",
            "Para el genero Female en el Rango de Edad 30-40: Promedio IMC = 31.16508313539193\n",
            "Para el genero Female en el Rango de Edad 40-50: Promedio IMC = 30.94269662921346\n",
            "Para el genero Female en el Rango de Edad 50-60: Promedio IMC = 31.923094170403576\n",
            "Para el genero Female en el Rango de Edad 60-70: Promedio IMC = 30.717080745341597\n",
            "Para el genero Female en el Rango de Edad 70-80: Promedio IMC = 29.233229813664597\n",
            "Para el genero Female en el Rango de Edad 80-90: Promedio IMC = 28.101428571428578\n"
          ]
        }
      ],
      "source": [
        "#Calcular promedio de IMC a partir de las edades y el género\n",
        "def avg_imc_by_gender_and_age_range(df, gender, age_ranges):\n",
        "    results = []\n",
        "\n",
        "    for lower, upper in age_ranges:\n",
        "        avg_imc = df.where(\n",
        "            (df[\"genero\"] == lit(gender)) &\n",
        "            (df[\"edad\"] > lower) &\n",
        "            (df[\"edad\"] <= upper)\n",
        "        ).select(mean(\"IMC\")).collect()\n",
        "\n",
        "        results.append({\n",
        "            \"age_range\": f\"{lower}-{upper}\",\n",
        "            \"avg_imc\": avg_imc[0][0] if avg_imc else None\n",
        "        })\n",
        "\n",
        "    return results\n",
        "\n",
        "age_ranges = [(0, 10), (10, 20), (20, 30), (30, 40), (40, 50), (50, 60), (60, 70), (70, 80), (80, 90)]\n",
        "gender = \"Female\"\n",
        "\n",
        "# Llamada a la función\n",
        "avg_imc_results = avg_imc_by_gender_and_age_range(df02, gender, age_ranges)\n",
        "\n",
        "# Mostrar resultados\n",
        "for result in avg_imc_results:\n",
        "    print(f\"Para el genero {gender} en el Rango de Edad {result['age_range']}: Promedio IMC = {result['avg_imc']}\")"
      ]
    },
    {
      "cell_type": "markdown",
      "metadata": {
        "application/vnd.databricks.v1+cell": {
          "cellMetadata": {},
          "inputWidgets": {},
          "nuid": "5add62a9-a763-4492-a8ed-77b177d44365",
          "showTitle": false,
          "tableResultSettingsMap": {},
          "title": ""
        },
        "id": "pbqawV2Jq5Pu"
      },
      "source": [
        "#####7. Gráfica"
      ]
    },
    {
      "cell_type": "code",
      "execution_count": 27,
      "metadata": {
        "application/vnd.databricks.v1+cell": {
          "cellMetadata": {
            "byteLimit": 2048000,
            "rowLimit": 10000
          },
          "inputWidgets": {},
          "nuid": "18c43b40-1bba-4cdd-a0c1-d03e6b254608",
          "showTitle": false,
          "tableResultSettingsMap": {},
          "title": ""
        },
        "id": "5xtyGINzq5Pu",
        "outputId": "d2995410-5054-4571-9d88-b7d60629cccc",
        "colab": {
          "base_uri": "https://localhost:8080/",
          "height": 472
        }
      },
      "outputs": [
        {
          "output_type": "display_data",
          "data": {
            "text/plain": [
              "<Figure size 640x480 with 1 Axes>"
            ],
            "image/png": "[encoded data removed]"
          },
          "metadata": {}
        }
      ],
      "source": [
        "import pandas as pd\n",
        "import matplotlib.pyplot as plt\n",
        "from pyspark.sql import SparkSession\n",
        "\n",
        "\n",
        "try:\n",
        "    df04\n",
        "except NameError:\n",
        "    data = {\"edad\": [25, 30, 35, 25, 40, 30, 30, 25, 35, 40, 40, 25]}\n",
        "    df04 = pd.DataFrame(data)\n",
        "\n",
        "if isinstance(df04, pd.DataFrame):\n",
        "    df_grouped = df04.groupby(\"edad\").size().reset_index(name=\"cantidad\")\n",
        "    edades = df_grouped[\"edad\"]\n",
        "    cantidades = df_grouped[\"cantidad\"]\n",
        "\n",
        "elif \"pyspark.sql.dataframe.DataFrame\" in str(type(df04)):\n",
        "    df_grouped = df04.groupBy(\"edad\").count().orderBy(\"edad\")\n",
        "    df_pandas = df_grouped.toPandas()  # Convertir a Pandas\n",
        "    edades = df_pandas[\"edad\"]\n",
        "    cantidades = df_pandas[\"count\"]\n",
        "\n",
        "else:\n",
        "    raise TypeError(\"df04 no es un DataFrame válido de Pandas o PySpark\")\n",
        "\n",
        "plt.bar(edades, cantidades)\n",
        "plt.ylabel(\"Cantidad\")\n",
        "plt.xlabel(\"Edad\")\n",
        "plt.title(\"Histograma Por Edades\")\n",
        "plt.legend([\"Edad\"], loc=\"upper right\")\n",
        "\n",
        "plt.show()"
      ]
    },
    {
      "cell_type": "code",
      "execution_count": 28,
      "metadata": {
        "application/vnd.databricks.v1+cell": {
          "cellMetadata": {
            "byteLimit": 2048000,
            "rowLimit": 10000
          },
          "inputWidgets": {},
          "nuid": "42d63854-d5b5-4975-98f9-8a16f43b8c66",
          "showTitle": false,
          "tableResultSettingsMap": {},
          "title": ""
        },
        "id": "Nrq_Luf7q5Pu",
        "outputId": "57fdb01c-04ed-4395-af93-e7ce633aa7e6",
        "colab": {
          "base_uri": "https://localhost:8080/",
          "height": 472
        }
      },
      "outputs": [
        {
          "output_type": "display_data",
          "data": {
            "text/plain": [
              "<Figure size 640x480 with 1 Axes>"
            ],
            "image/png": "[encoded data removed]"
          },
          "metadata": {}
        }
      ],
      "source": [
        "#Gráfica de género\n",
        "\n",
        "# Filtrar los datos para eliminar el valor 'gender' y mantener solo 'Female' y 'Male'\n",
        "df_filtered = df04.filter((col('genero') == 'Female') | (col('genero') == 'Male'))\n",
        "\n",
        "# Obtener el conteo por grupo en la columna 'genero'\n",
        "genero_count = df_filtered.groupby('genero').count().select('genero', 'count')\n",
        "\n",
        "# Convertir a RDD y luego a lista para trabajar con ella\n",
        "genero_count_list = genero_count.rdd.map(lambda x: (x[0], x[1])).collect()\n",
        "\n",
        "# Separa las categorías y los conteos\n",
        "categorias = ['Mujeres', 'Hombres']\n",
        "cantidad = [x[1] for x in genero_count_list]\n",
        "# Crear la gráfica de barras\n",
        "grafica = plt.bar(categorias, cantidad)\n",
        "\n",
        "grafica[0].set_color('r')\n",
        "grafica[1].set_color('b')\n",
        "plt.ylabel('Cantidad')\n",
        "plt.xlabel('Género')\n",
        "plt.title('Gráfico de Barras por Género')\n",
        "plt.show()\n"
      ]
    },
    {
      "cell_type": "code",
      "execution_count": 29,
      "metadata": {
        "application/vnd.databricks.v1+cell": {
          "cellMetadata": {
            "byteLimit": 2048000,
            "rowLimit": 10000
          },
          "inputWidgets": {},
          "nuid": "3900fe2c-cc8e-49a0-8103-f2e90dfbf90e",
          "showTitle": false,
          "tableResultSettingsMap": {},
          "title": ""
        },
        "id": "punkZxBrq5Pv",
        "outputId": "378ef14b-0a6d-41a4-9e8d-245e8e5ff3c3",
        "colab": {
          "base_uri": "https://localhost:8080/",
          "height": 472
        }
      },
      "outputs": [
        {
          "output_type": "display_data",
          "data": {
            "text/plain": [
              "<Figure size 640x480 with 1 Axes>"
            ],
            "image/png": "[encoded data removed]"
          },
          "metadata": {}
        }
      ],
      "source": [
        "#Gráficas de enfermedades cardiacas\n",
        "\n",
        "enfCardiaca = df04.groupBy('ACV').count().select('ACV', 'count')\n",
        "# Filtrar los datos para eliminar el valor 'Stroke' y mantener solo '0' y '1'\n",
        "enfCardiaca_filtered = enfCardiaca.filter((col('ACV') == 0) | (col('ACV') == 1))\n",
        "# Convertir a RDD y luego a una lista\n",
        "enfCardiaca_filtered = enfCardiaca_filtered.rdd.map(lambda x: (x[0], x[1])).collect()\n",
        "# Separa los valores de las categorías y los conteos\n",
        "categorias = ['No', 'Si']  # 'No' es 0 y 'Si' es 1\n",
        "cantidad = [x[1] for x in enfCardiaca_filtered]\n",
        "grafica = plt.bar(categorias, cantidad)\n",
        "grafica[0].set_color('r')  # Colorea la barra para 'No' (0) en rojo\n",
        "grafica[1].set_color('b')  # Colorea la barra para 'Si' (1) en azul\n",
        "# Etiquetas y formato\n",
        "plt.ylabel('Cantidad')\n",
        "plt.xlabel('Sufre ACV')\n",
        "plt.title('Gráfico de Barras por ACV')\n",
        "plt.show()"
      ]
    },
    {
      "cell_type": "markdown",
      "source": [
        "# Modelado de Datos"
      ],
      "metadata": {
        "id": "xxF2kjup9qbA"
      }
    },
    {
      "cell_type": "code",
      "source": [
        "# Se importan las librerias para idexar, ensamblaje, Pipeline, modelo de clasificación y Métrias\n",
        "from pyspark.ml.feature import StringIndexer, VectorAssembler\n",
        "from pyspark.ml import Pipeline\n",
        "from pyspark.ml.classification import DecisionTreeClassifier\n",
        "from pyspark.ml.evaluation import MulticlassClassificationEvaluator, BinaryClassificationEvaluator"
      ],
      "metadata": {
        "id": "am6_nl8g9wMb"
      },
      "execution_count": 38,
      "outputs": []
    },
    {
      "cell_type": "markdown",
      "source": [
        "## Indexación y Pipeline"
      ],
      "metadata": {
        "id": "zw_Ijtkd-6Yi"
      }
    },
    {
      "cell_type": "code",
      "source": [
        "# Se indexan las variables categoricas\n",
        "categorical_cols = [\"genero\", \"EdoCivil\", \"trabajo\", \"Residencia\", \"Fumador\"]\n",
        "indexers = [StringIndexer(inputCol=col, outputCol=col+\"_idx\") for col in categorical_cols]\n",
        "\n",
        "# Se crea el pipeline\n",
        "pipeline = Pipeline(stages=indexers)\n",
        "df04_indexed = pipeline.fit(df04).transform(df04)\n",
        "\n",
        "# Se indexan las variables númericas + categoricas\n",
        "feature_cols = [\"edad\", \"hipertension\", \"enfCardiaca\", \"Niveldeglucosaprom\", \"IMC\"] + [col+\"_idx\" for col in categorical_cols]\n",
        "\n",
        "# Se ensablan las variables omitiendo nulls\n",
        "assembler = VectorAssembler(inputCols=feature_cols, outputCol=\"features\", handleInvalid='skip')\n",
        "df04_final = assembler.transform(df04_indexed)"
      ],
      "metadata": {
        "id": "p5uYHYEm-91m"
      },
      "execution_count": 31,
      "outputs": []
    },
    {
      "cell_type": "markdown",
      "source": [
        "## Modelo Modelo de clasificación (Árbol de Decisión)"
      ],
      "metadata": {
        "id": "N_PE6cMA_jCy"
      }
    },
    {
      "cell_type": "code",
      "source": [
        "# Separar datos de entrenamiento y prueba\n",
        "train, test = df04_final.randomSplit([0.8, 0.2], seed=13)\n",
        "\n",
        "# Modelo de clasificación (Árbol de Decisión)\n",
        "DTC = DecisionTreeClassifier(featuresCol=\"features\", labelCol=\"ACV\")\n",
        "modelo = DTC.fit(train)\n",
        "\n",
        "#Realizar predicciones\n",
        "predictions = modelo.transform(test)\n",
        "predictions.select(\"ACV\", \"prediction\", \"probability\").show(10)"
      ],
      "metadata": {
        "colab": {
          "base_uri": "https://localhost:8080/"
        },
        "id": "9xahSZH5-0E4",
        "outputId": "59230af6-d4a3-43bd-d50a-72296c66f699"
      },
      "execution_count": 33,
      "outputs": [
        {
          "output_type": "stream",
          "name": "stdout",
          "text": [
            "+---+----------+--------------------+\n",
            "|ACV|prediction|         probability|\n",
            "+---+----------+--------------------+\n",
            "|  0|       0.0|[0.95679567956795...|\n",
            "|  0|       0.0|[0.99797468354430...|\n",
            "|  0|       0.0|[0.95679567956795...|\n",
            "|  0|       0.0|[0.87081339712918...|\n",
            "|  0|       0.0|[0.95679567956795...|\n",
            "|  0|       0.0|[0.95679567956795...|\n",
            "|  0|       0.0|[0.95679567956795...|\n",
            "|  0|       0.0|[0.99797468354430...|\n",
            "|  0|       0.0|[0.87081339712918...|\n",
            "|  0|       0.0|[0.99797468354430...|\n",
            "+---+----------+--------------------+\n",
            "only showing top 10 rows\n",
            "\n"
          ]
        }
      ]
    },
    {
      "cell_type": "markdown",
      "source": [
        "## Evaluación del Modelo (Métricas)"
      ],
      "metadata": {
        "id": "70cIHemx_qia"
      }
    },
    {
      "cell_type": "code",
      "source": [
        "# Se crea una tabla para mostrar la matriz de confusión\n",
        "conf_matrix = predictions.groupBy(\"ACV\", \"prediction\").count() \\\n",
        "    .groupBy(\"ACV\") \\\n",
        "    .pivot(\"prediction\", [0, 1]) \\\n",
        "    .sum(\"count\") \\\n",
        "    .na.fill(0) \\\n",
        "    .orderBy(\"ACV\")\n",
        "conf_matrix = conf_matrix.select(\n",
        "    col(\"ACV\").alias(\"Real\"),\n",
        "    col(\"0\").alias(\"Predicho 0 (Negativo)\"),\n",
        "    col(\"1\").alias(\"Predicho 1 (Positivo)\")\n",
        ")\n",
        "\n",
        "conf_matrix.show()"
      ],
      "metadata": {
        "colab": {
          "base_uri": "https://localhost:8080/"
        },
        "id": "US_ByuKlBE6w",
        "outputId": "9ad99f89-5711-41a8-82de-31acd30217e4"
      },
      "execution_count": 34,
      "outputs": [
        {
          "output_type": "stream",
          "name": "stdout",
          "text": [
            "+----+---------------------+---------------------+\n",
            "|Real|Predicho 0 (Negativo)|Predicho 1 (Positivo)|\n",
            "+----+---------------------+---------------------+\n",
            "|   0|                  921|                    1|\n",
            "|   1|                   49|                    1|\n",
            "+----+---------------------+---------------------+\n",
            "\n"
          ]
        }
      ]
    },
    {
      "cell_type": "markdown",
      "source": [
        "## Matriz de Confusión\n",
        "\n",
        "**True Positives (TP)**\n",
        "* N° de pacientes que sufrieron un paro cardíaco y el modelo predijo correctamente que SI lo sufrirían. El modelo identificó correctamente a pacientes con riesgo de ACV.\n",
        "\n",
        "**True Negatives (TN)**\n",
        "* N° de pacientes que NO sufrieron un paro cardíaco y el modelo predijo correctamente que NO lo sufrirían. El modelo identificó correctamente a pacientes sanas.\n",
        "\n",
        "**False Positives (FP)**\n",
        "*  N° de pacientes que NO sufrieron un paro cardíaco, pero el modelo predijo incorrectamente que SI lo sufrirían. Falsas alarmas: el modelo alertó riesgo en pacientes sanos.\n",
        "\n",
        "**False Negatives (FN)**\n",
        "* N° de pacientes que sí sufrieron un paro cardíaco , pero el modelo predijo incorrectamente que NO lo sufrirían. El modelo no detectó el riesgo de ACV."
      ],
      "metadata": {
        "id": "fVbABy2EDJnq"
      }
    },
    {
      "cell_type": "code",
      "source": [
        "# Accuracy\n",
        "evaluator = MulticlassClassificationEvaluator(labelCol=\"ACV\", predictionCol=\"prediction\", metricName=\"accuracy\")\n",
        "accuracy = evaluator.evaluate(predictions)\n",
        "\n",
        "# Precision\n",
        "precision_evaluator = MulticlassClassificationEvaluator(labelCol=\"ACV\", predictionCol=\"prediction\", metricName=\"weightedPrecision\")\n",
        "precision = precision_evaluator.evaluate(predictions)\n",
        "\n",
        "# Recall\n",
        "recall_evaluator = MulticlassClassificationEvaluator(labelCol=\"ACV\", predictionCol=\"prediction\", metricName=\"weightedRecall\")\n",
        "recall = recall_evaluator.evaluate(predictions)\n",
        "\n",
        "# F1 Score\n",
        "f1_evaluator = MulticlassClassificationEvaluator(labelCol=\"ACV\", predictionCol=\"prediction\", metricName=\"f1\")\n",
        "f1 = f1_evaluator.evaluate(predictions)\n",
        "\n",
        "# Mostrar resultados\n",
        "print(f\"Accuracy:  {accuracy:.4f}\")\n",
        "print(f\"Precision: {precision:.4f}\")\n",
        "print(f\"Recall:    {recall:.4f}\")\n",
        "print(f\"F1 Score:  {f1:.4f}\")"
      ],
      "metadata": {
        "colab": {
          "base_uri": "https://localhost:8080/"
        },
        "id": "t1Vn6y6j_wg8",
        "outputId": "c50088fa-f1dd-42e4-abc2-deee5c7b20c0"
      },
      "execution_count": 35,
      "outputs": [
        {
          "output_type": "stream",
          "name": "stdout",
          "text": [
            "Accuracy:  0.9486\n",
            "Precision: 0.9264\n",
            "Recall:    0.9486\n",
            "F1 Score:  0.9255\n"
          ]
        }
      ]
    },
    {
      "cell_type": "code",
      "source": [
        "# Usamos la columna 'probability' para calcular el AUC\n",
        "evaluator = BinaryClassificationEvaluator(labelCol=\"ACV\", rawPredictionCol=\"probability\", metricName=\"areaUnderROC\")\n",
        "\n",
        "auc_roc = evaluator.evaluate(predictions)\n",
        "print(f\"AUC-ROC: {auc_roc:.4f}\")"
      ],
      "metadata": {
        "colab": {
          "base_uri": "https://localhost:8080/"
        },
        "id": "fdvTPFDGLxRW",
        "outputId": "854890fd-7e6e-47da-a197-24a8cf32ec1b"
      },
      "execution_count": 40,
      "outputs": [
        {
          "output_type": "stream",
          "name": "stdout",
          "text": [
            "AUC-ROC: 0.7836\n"
          ]
        }
      ]
    },
    {
      "cell_type": "markdown",
      "source": [
        "## Métricas\n",
        "**1. Accuracy (Exactitud)**\n",
        "* El porcentaje de pacientes que el modelo clasificó correctamente, ya sea que tuvieron o no un ACV. Si bien es una métrica muy útil e intuitiva, no es suficiente para afirmar que el modelo es o no óptimo en la resolución del problema.\n",
        "\n",
        "* El resultado obtenido indica que el modelo es muy bueno clasificando entre pacientes sanos y con riesgo de ACV con una exactitud del **94.86%**.\n",
        "\n",
        "**2. Precision (Precisión)**\n",
        "* Es el porcentaje de pacientes alertados por el modelo de riesgo de ACV, cuántos efectivamente sufrieron un ACV. Una alta precisión en el modelo indica pocas falsas alarmas (FP).\n",
        "\n",
        "* Para este problema resulta útil no alertar a un paciente sano y someterlo a pruebas innecesarias y costosas, sumado a la poca credibilidad de la **Institución de Salud o Médico en sus diagnosticos**.\n",
        "\n",
        "* El resultado obtenido indica que el modelo es muy bueno identificando pacientes con riesgo de ACV con una precisión del **92.64%**.\n",
        "\n",
        "**3. Recall (Sensibilidad o Tasa de verdaderos positivos)**\n",
        "* Es el porcentaje de pacientes que tuvieron ACV y que el modelo detectó correctamente.\n",
        "\n",
        "* Es la métrica más relevante en este problema, ya que es más critico que un paciente sufra un ACV y no detectarlo a tiempo por el modelo, que alertar falsamente a uno sano.\n",
        "\n",
        "* El resultado obtenido indica que el modelo tiene una buena sensibilidad o TPR en los pacientes con riesgo de ACV con un Recall del **94.86%**.\n",
        "\n",
        "**4. F1 Score**\n",
        "* Es un punto medio entre precisión y recall, balanceando ambas métricas. Para este problema, considera tanto la capacidad del modelo para detectar correctamente los ACV (recall) como para evitar falsas alarmas (precisión).\n",
        "* El resultado obtenido indica que el modelo hace un excelente equilibrio entre no perder casos reales y no alertar falsamente en un **92.55%**.\n",
        "\n",
        "**5. AUC_ROC**\n",
        "* La curva ROC muestra el equilibrio entre captar correctamente a los pacientes en riesgo (sensibilidad) y minimizar las falsas alarmas en pacientes sanos (especificidad) que un clasificador puede lograr al ajustar su umbral de decisión.\n",
        "* El resultado obtenido indica que el modelo tiene un **78%** de probabilidad de asignar un puntaje de riesgo más alto a un paciente que realmente sufrió un ACV, en comparación con un paciente que no lo sufrió.\n",
        "* La probabilidad obtenida es relativamente buena, si se deseara mejorarla, sería necesario cambiar el umbral de clasificación del modelo y evaluar cual de las métricas (sensibilidad o especificidad) se ha de priorizar en el modelo."
      ],
      "metadata": {
        "id": "LeohmpPnG8ar"
      }
    },
    {
      "cell_type": "markdown",
      "source": [
        "# Conclusiones\n",
        "\n",
        "1. El modelo presenta desempeño equilibrado para clasificar pacientes con y sin riesgo de ACV, lo que indica que la mayoría de los pacientes son correctamente clasificados, tanto sanos como en riesgo.\n",
        "\n",
        "2. La alta sensibilidad (recall) del modelo para detectar correctamente a los pacientes que sufrieron un ACV puede reducir significavamente el riesgo de los pacientes, lo cual es crítico en un contexto clínico, ya que evita que casos reales pasen desapercibidos.\n",
        "\n",
        "3. El valor del AUC-ROC refleja un buen equilibrio entre sensibilidad y especificidad, señalando que el modelo es capaz de distinguir con bastante efectividad entre pacientes con y sin riesgo de ACV, aunque hay margen para ajustes en el umbral de clasificación que podrían optimizar aún más el desempeño según las prioridades clínicas.\n",
        "\n"
      ],
      "metadata": {
        "id": "kEirOag9N9Am"
      }
    }
  ],
  "metadata": {
    "application/vnd.databricks.v1+notebook": {
      "computePreferences": null,
      "dashboards": [],
      "environmentMetadata": {
        "base_environment": "",
        "client": "1"
      },
      "language": "python",
      "notebookMetadata": {
        "pythonIndentUnit": 4
      },
      "notebookName": "Velasquez _ 03_ 02",
      "widgets": {}
    },
    "colab": {
      "provenance": [],
      "include_colab_link": true
    },
    "language_info": {
      "name": "python"
    },
    "kernelspec": {
      "name": "python3",
      "display_name": "Python 3"
    }
  },
  "nbformat": 4,
  "nbformat_minor": 0
}